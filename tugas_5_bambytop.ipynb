{
  "nbformat": 4,
  "nbformat_minor": 0,
  "metadata": {
    "interpreter": {
      "hash": "b02d93efda564da1915d42b0288c26f05ac833e7645184a564f32e638d57cc3e"
    },
    "kernelspec": {
      "display_name": "Python 3.8.6 64-bit ('public_op': virtualenv)",
      "name": "python3"
    },
    "language_info": {
      "codemirror_mode": {
        "name": "ipython",
        "version": 3
      },
      "file_extension": ".py",
      "mimetype": "text/x-python",
      "name": "python",
      "nbconvert_exporter": "python",
      "pygments_lexer": "ipython3",
      "version": "3.8.6"
    },
    "orig_nbformat": 4,
    "colab": {
      "name": "tugas_5_bambytop.ipynb",
      "provenance": [],
      "collapsed_sections": [],
      "include_colab_link": true
    }
  },
  "cells": [
    {
      "cell_type": "markdown",
      "metadata": {
        "id": "view-in-github",
        "colab_type": "text"
      },
      "source": [
        "<a href=\"https://colab.research.google.com/github/bambytop/pds_datascience/blob/main/tugas_5_bambytop.ipynb\" target=\"_parent\"><img src=\"https://colab.research.google.com/assets/colab-badge.svg\" alt=\"Open In Colab\"/></a>"
      ]
    },
    {
      "cell_type": "markdown",
      "metadata": {
        "id": "kjby6YpAi0mE"
      },
      "source": [
        "1. Buatlah sebuah class dengan nama class = Kendaraan,  tanpa variabel, attribute dan methods"
      ]
    },
    {
      "cell_type": "code",
      "metadata": {
        "id": "LZqtKlPwi0mK"
      },
      "source": [
        "#kerjakan soal 1 pada sel ini\n",
        "class Kendaraan:\n",
        "  pass\n"
      ],
      "execution_count": null,
      "outputs": []
    },
    {
      "cell_type": "markdown",
      "metadata": {
        "id": "B8NS70Qfi0mL"
      },
      "source": [
        "2. Buatlah sebuah class dengan nama class = Kendaraan, yang memiliki atribut instance kecepatan_maksimum dan jarak_tempuh"
      ]
    },
    {
      "cell_type": "code",
      "metadata": {
        "id": "xjPnp5RCi0mM",
        "colab": {
          "base_uri": "https://localhost:8080/"
        },
        "outputId": "c94226ba-16b7-4f6b-ef10-0f3a312da337"
      },
      "source": [
        "#kerjakan soal no 2 pada sel ini\n",
        "\n",
        "#contoh pemanggilan\n",
        "#model_1 = Kendaraan(240,10)\n",
        "#print(model_1.kecepatan_maksimum, model_1.jarak_tempuh)\n",
        "\n",
        "#output\n",
        "#240 10\n",
        "class Kendaraan:\n",
        "  def __init__(self, kecepatan_maksimum, jarak_tempuh):\n",
        "    self.kecepatan_maksimum = kecepatan_maksimum\n",
        "    self.jarak_tempuh = jarak_tempuh\n",
        "\n",
        "model_1 = Kendaraan(240,10)\n",
        "print(model_1.kecepatan_maksimum, model_1.jarak_tempuh)"
      ],
      "execution_count": null,
      "outputs": [
        {
          "output_type": "stream",
          "name": "stdout",
          "text": [
            "240 10\n"
          ]
        }
      ]
    },
    {
      "cell_type": "markdown",
      "metadata": {
        "id": "7ufTzxWVi0mN"
      },
      "source": [
        "3. Buatlah sebuah class dengan nama Tesla yang bersifat inheritance/turunan dari class mobil"
      ]
    },
    {
      "cell_type": "code",
      "metadata": {
        "id": "pFtYYuIHi0mO",
        "colab": {
          "base_uri": "https://localhost:8080/"
        },
        "outputId": "77835407-e463-4b1c-f7dd-11bdfb86d914"
      },
      "source": [
        "#kerjakan soal no 3 pada sel ini\n",
        "\n",
        "class Mobil:\n",
        "    def __init__(self, nama, warna, bahan_bakar):\n",
        "        self.nama = nama\n",
        "        self.warna = warna\n",
        "        self.bahan_bakar = bahan_bakar\n",
        "  \n",
        "# contoh pemanggilan\n",
        "# model_x = Tesla(\"model x\",\"perak\",\"listrik\")\n",
        "# print(f\"Nama Mobil: {model_x.nama}, Warna: {model_x.warna}, Bahan Bakar: {model_x.bahan_bakar}\")\n",
        "\n",
        "# output\n",
        "# Nama Mobil: model x, Warna: perak, Bahan Bakar: listrik\n",
        "\n",
        "class Tesla(Mobil):\n",
        "  pass\n",
        "\n",
        "model_x = Tesla(\"model x\", \"perak\", \"listrik\")\n",
        "print(f\"Nama mobil: {model_x.nama}, Warna: {model_x.warna}, Bahan Bakar: {model_x.bahan_bakar}\")"
      ],
      "execution_count": null,
      "outputs": [
        {
          "output_type": "stream",
          "name": "stdout",
          "text": [
            "Nama mobil: model x, Warna: perak, Bahan Bakar: listrik\n"
          ]
        }
      ]
    },
    {
      "cell_type": "markdown",
      "metadata": {
        "id": "i5WGrbAui0mR"
      },
      "source": [
        "4. Buatlah sebuah class dengan ketentuan:\n",
        "    - memiliki nama Aritmatika\n",
        "    - instance atribut/input untuk class adalah dua integer\n",
        "    - memiliki metode yang bernama add yang menampilkan hasil penjumlahan instance atribut/inputan class"
      ]
    },
    {
      "cell_type": "code",
      "metadata": {
        "id": "nKUlQv9Ai0mS",
        "colab": {
          "base_uri": "https://localhost:8080/"
        },
        "outputId": "b4db4663-9f61-4dda-fc59-76af39b5a3a2"
      },
      "source": [
        "#kerjakan soal no 4 pada sel ini\n",
        "\n",
        "# contoh pemanggilan\n",
        "# model_hitung = Aritmatika(10,4)\n",
        "# model_hitung.add()\n",
        "\n",
        "# output\n",
        "# 14\n",
        "\n",
        "class Aritmatika:\n",
        "  def __init__(self, num1, num2):\n",
        "    self.num1 = num1\n",
        "    self.num2 = num2\n",
        "  \n",
        "  def add(self):\n",
        "    print(self.num1 + self.num2)\n",
        "\n",
        "model_hitung = Aritmatika(10,4)\n",
        "model_hitung.add()"
      ],
      "execution_count": null,
      "outputs": [
        {
          "output_type": "stream",
          "name": "stdout",
          "text": [
            "14\n"
          ]
        }
      ]
    }
  ]
}