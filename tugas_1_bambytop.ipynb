{
  "nbformat": 4,
  "nbformat_minor": 0,
  "metadata": {
    "orig_nbformat": 2,
    "colab": {
      "name": "tugas_1_bambytop.ipynb",
      "provenance": []
    },
    "language_info": {
      "name": "python"
    },
    "kernelspec": {
      "name": "python3",
      "display_name": "Python 3"
    }
  },
  "cells": [
    {
      "cell_type": "markdown",
      "metadata": {
        "id": "jMptZGanI6W1"
      },
      "source": [
        "1. Buatlah 3 variabel yang masing-masing berisi\n",
        "    \n",
        "    a. Nama depan (string)\n",
        "    \n",
        "    b. Umur (integer)\n",
        "    \n",
        "    c. kota tinggal (string)"
      ]
    },
    {
      "cell_type": "code",
      "metadata": {
        "id": "NYD1BQw9I6XB"
      },
      "source": [
        "#kerjakan soal no 1 pada sel ini\n",
        "nama_depan = \"Bambang\"\n",
        "umur = 43\n",
        "kota_tinggal = \"Jakarta\""
      ],
      "execution_count": null,
      "outputs": []
    },
    {
      "cell_type": "markdown",
      "metadata": {
        "id": "nx7vxG3eI6ZG"
      },
      "source": [
        "2. Tampilkan semua variabel pada soal no 1 menjadi sebuah kalimat dengan menggunakan metode print()"
      ]
    },
    {
      "cell_type": "code",
      "metadata": {
        "id": "G8KzIoroI6ZI",
        "colab": {
          "base_uri": "https://localhost:8080/"
        },
        "outputId": "0ad8feca-c7c4-4097-da83-d1290fff0280"
      },
      "source": [
        "#kerjakan soal no 2 pada bagian sel ini\n",
        "#contoh keluaran yang diharapkan : \"Nama saya adalah Thio, berusia 28 tahun dan tinggal di Bandung.\"\n",
        "print(\"Nama saya adalah {0}, berusia {1} dan tinggal di {2}\".format(nama_depan, umur, kota_tinggal))"
      ],
      "execution_count": null,
      "outputs": [
        {
          "output_type": "stream",
          "name": "stdout",
          "text": [
            "Nama saya adalah Bambang, berusia 43 dan tinggal di Jakarta\n"
          ]
        }
      ]
    },
    {
      "cell_type": "markdown",
      "metadata": {
        "id": "8oSj9rj9I6ZJ"
      },
      "source": [
        "3. Dengan menggunakan salah satu string method, ubah kata mangga pada variabel kalimat menjadi apel dan masukkan pada variabel kalimat_2 lalu print variabel kalimat_2"
      ]
    },
    {
      "cell_type": "code",
      "metadata": {
        "id": "OcL1Cot3I6ZJ",
        "colab": {
          "base_uri": "https://localhost:8080/"
        },
        "outputId": "9557951f-4ca9-4dd9-8b64-d3192c5d74d2"
      },
      "source": [
        "#kerjakan soal no 3 pada bagian sel ini\n",
        "kalimat = 'Budi menyukai buah mangga'\n",
        "kalimat_2 = kalimat.replace(\"mangga\", \"apel\")\n",
        "print(kalimat_2)"
      ],
      "execution_count": null,
      "outputs": [
        {
          "output_type": "stream",
          "name": "stdout",
          "text": [
            "Budi menyukai buah apel\n"
          ]
        }
      ]
    }
  ]
}