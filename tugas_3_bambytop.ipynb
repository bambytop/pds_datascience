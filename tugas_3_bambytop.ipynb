{
  "nbformat": 4,
  "nbformat_minor": 0,
  "metadata": {
    "kernelspec": {
      "display_name": "Python 3.8.6 64-bit ('public_op')",
      "metadata": {
        "interpreter": {
          "hash": "66914c7a76df292d6a0bba50fafa355dedd93b53ceb1028df6ae26adc2894cfa"
        }
      },
      "name": "python3"
    },
    "language_info": {
      "codemirror_mode": {
        "name": "ipython",
        "version": 3
      },
      "file_extension": ".py",
      "mimetype": "text/x-python",
      "name": "python",
      "nbconvert_exporter": "python",
      "pygments_lexer": "ipython3",
      "version": "3.8.6-final"
    },
    "orig_nbformat": 2,
    "colab": {
      "name": "tugas_3_bambytop.ipynb",
      "provenance": [],
      "collapsed_sections": []
    }
  },
  "cells": [
    {
      "cell_type": "markdown",
      "metadata": {
        "id": "ktZp2mNzzLN4"
      },
      "source": [
        "1. Keluarkan dan tampilkan menggunakan print semua anggota list pada sel dibawah"
      ]
    },
    {
      "cell_type": "code",
      "metadata": {
        "id": "3UHnYldkzLN9",
        "colab": {
          "base_uri": "https://localhost:8080/"
        },
        "outputId": "dbd1508c-0256-40a1-a47e-8d8de7c65626"
      },
      "source": [
        "#kerjakan soal no.1 pada sel berikut ini\n",
        "#contoh list = [1,2,3]\n",
        "#contoh hasil\n",
        "#1\n",
        "#2\n",
        "#3\n",
        "\n",
        "data_list = ['bandung', 'jakarta', 'semarang', 'palembang']\n",
        "for data in data_list:\n",
        "  print(data)"
      ],
      "execution_count": null,
      "outputs": [
        {
          "output_type": "stream",
          "name": "stdout",
          "text": [
            "bandung\n",
            "jakarta\n",
            "semarang\n",
            "palembang\n"
          ]
        }
      ]
    },
    {
      "cell_type": "markdown",
      "metadata": {
        "id": "6i9cUmiozLN_"
      },
      "source": [
        "2. Keluarkan dan tampilkan menggunakan metode print anggota list dengan tipe numerik (int & float) dari list pada sel di bawah"
      ]
    },
    {
      "cell_type": "code",
      "metadata": {
        "id": "Nx8GOcvEzLOA",
        "colab": {
          "base_uri": "https://localhost:8080/"
        },
        "outputId": "b4c4e951-13b8-4eb9-b8ab-4f246e6ba58c"
      },
      "source": [
        "#kerjakan soal no.2 pada sel berikut ini\n",
        "#contoh list = ['a', 1]\n",
        "#contoh hasil :\n",
        "#1\n",
        "\n",
        "data_list_2 = [100, 'makassar', 15.5, True, \"20\"] \n",
        "for data in data_list_2:\n",
        "  if type(data) == int or type(data) == float:\n",
        "    print(data)\n"
      ],
      "execution_count": null,
      "outputs": [
        {
          "output_type": "stream",
          "name": "stdout",
          "text": [
            "100\n",
            "15.5\n"
          ]
        }
      ]
    },
    {
      "cell_type": "markdown",
      "metadata": {
        "id": "aKNpev7lzLOB"
      },
      "source": [
        "3. Buat sebuah kode if else yang dapat menyatakan apakah suatu bilangan ganjil atau genap."
      ]
    },
    {
      "cell_type": "code",
      "metadata": {
        "id": "9Xs2xm8-zLOB",
        "colab": {
          "base_uri": "https://localhost:8080/"
        },
        "outputId": "bc0cfe0b-8fbe-4f1d-9f1e-dfa3c60f1107"
      },
      "source": [
        "#kerjakan soal no.3 disini\n",
        "\n",
        "number = 9\n",
        "\n",
        "#hint\n",
        "'''\n",
        "if ... :\n",
        "    print(...)\n",
        "else ...:\n",
        "    print(...)\n",
        "'''\n",
        "#hasil yang diharapkan\n",
        "#ganjil\n",
        "\n",
        "if number%2:\n",
        "  print(\"ganjil\")\n",
        "else:\n",
        "  print(\"genap\")"
      ],
      "execution_count": null,
      "outputs": [
        {
          "output_type": "stream",
          "name": "stdout",
          "text": [
            "ganjil\n"
          ]
        }
      ]
    },
    {
      "cell_type": "markdown",
      "metadata": {
        "id": "25iygAD-zLOC"
      },
      "source": [
        "4. Kalikan semua anggota list_1 terhadap anggota ganjil pada list_2. tampilkan hasilnya"
      ]
    },
    {
      "cell_type": "code",
      "metadata": {
        "id": "Co2fXU0GzLOC",
        "colab": {
          "base_uri": "https://localhost:8080/"
        },
        "outputId": "50e1dc32-a2ae-4692-c7aa-69db7f422802"
      },
      "source": [
        "#kerjakan soal no.4 pada sel berikut ini\n",
        "list_1 = [1,2,3,4,5]\n",
        "list_2 = [2,3,6,8,9]\n",
        "\n",
        "#hasil yang diharapkan\n",
        "'''\n",
        "3\n",
        "9\n",
        "6\n",
        "18\n",
        "9\n",
        "27\n",
        "12\n",
        "36\n",
        "15\n",
        "45\n",
        "'''\n",
        "\n",
        "for val_1 in list_1:\n",
        "  for val_2 in list_2:\n",
        "    if val_2%2:\n",
        "      print(val_1 * val_2)"
      ],
      "execution_count": null,
      "outputs": [
        {
          "output_type": "stream",
          "name": "stdout",
          "text": [
            "3\n",
            "9\n",
            "6\n",
            "18\n",
            "9\n",
            "27\n",
            "12\n",
            "36\n",
            "15\n",
            "45\n"
          ]
        }
      ]
    },
    {
      "cell_type": "markdown",
      "metadata": {
        "id": "fZCRMwr7zLO2"
      },
      "source": [
        "5. lakukan pengecekan apakah terdapat angka pada tiap2 anggota list. lalu tampilkan sesuai format yang diminta"
      ]
    },
    {
      "cell_type": "code",
      "metadata": {
        "id": "TfWY8LZtzLPG",
        "colab": {
          "base_uri": "https://localhost:8080/"
        },
        "outputId": "ba4a5a5e-cb3a-4e89-ccce-5420e80a6c8b"
      },
      "source": [
        "#kerjakan soal no.5 pada sel berikut ini\n",
        "#contoh list = ['ada', 'ganesa10']\n",
        "#contoh hasil:\n",
        "#ada tidak memiliki angka\n",
        "#ganesa10 memiliki angka\n",
        "\n",
        "data_list_3 = ['asda8asd', 'bandunglautanapi', 'washingt0nDC']\n",
        "for i in data_list_3:\n",
        "  for idx, val in enumerate(i):\n",
        "    if val.isdigit():\n",
        "      print(f'{i} memiliki angka')\n",
        "      break\n",
        "    elif idx == (len(i)-1):\n",
        "      print(f'{i} tidak memiliki angka')"
      ],
      "execution_count": null,
      "outputs": [
        {
          "output_type": "stream",
          "name": "stdout",
          "text": [
            "asda8asd memiliki angka\n",
            "bandunglautanapi tidak memiliki angka\n",
            "washingt0nDC memiliki angka\n"
          ]
        }
      ]
    },
    {
      "cell_type": "markdown",
      "metadata": {
        "id": "c7Vmo8SAzLPG"
      },
      "source": [
        "6. Cari siswa mana saja yang memiliki nilai lebih dari sama dengan 80. Masukkan kedalam sebuah list. print hasilnya"
      ]
    },
    {
      "cell_type": "code",
      "metadata": {
        "id": "vZ5yVlsOzLPH",
        "colab": {
          "base_uri": "https://localhost:8080/"
        },
        "outputId": "208b7fc1-2b0f-4f8a-f4dd-f9c191cf8fb0"
      },
      "source": [
        "#kerjakan soal no.6 pada sel berikut ini\n",
        "\n",
        "data_siswa = [\n",
        "    {\n",
        "        \"nama\":\"Budi\",\n",
        "        \"nilai\": 90\n",
        "    },\n",
        "    {\n",
        "        \"nama\":\"Nina\",\n",
        "        \"nilai\": 78\n",
        "    },\n",
        "    {\n",
        "        \"nama\":\"Rudi\",\n",
        "        \"nilai\": 91\n",
        "    },\n",
        "    {\n",
        "        \"nama\":\"Olivia\",\n",
        "        \"nilai\": 76\n",
        "    },\n",
        "    {\n",
        "        \"nama\":\"Leo\",\n",
        "        \"nilai\": 80\n",
        "    },\n",
        "    {\n",
        "        \"nama\":\"Liam\",\n",
        "        \"nilai\": 67\n",
        "    },\n",
        "    {\n",
        "        \"nama\":\"Sheila\",\n",
        "        \"nilai\": 76\n",
        "    }\n",
        "]\n",
        "\n",
        "#hasil yang diharapkan\n",
        "#[Budi, Rudi, Leo]\n",
        "\n",
        "result_list = []\n",
        "temp_val = ''\n",
        "for siswa in data_siswa:\n",
        "  for idx,val in siswa.items():\n",
        "    if idx=='nama':\n",
        "      temp_val = val\n",
        "    if idx=='nilai' and val>=80:\n",
        "      result_list.append(temp_val)\n",
        "\n",
        "print(result_list)"
      ],
      "execution_count": null,
      "outputs": [
        {
          "output_type": "stream",
          "name": "stdout",
          "text": [
            "['Budi', 'Rudi', 'Leo']\n"
          ]
        }
      ]
    }
  ]
}