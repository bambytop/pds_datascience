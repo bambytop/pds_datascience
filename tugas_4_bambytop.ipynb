{
  "nbformat": 4,
  "nbformat_minor": 0,
  "metadata": {
    "kernelspec": {
      "display_name": "Python 3.8.6 64-bit ('public_op')",
      "metadata": {
        "interpreter": {
          "hash": "66914c7a76df292d6a0bba50fafa355dedd93b53ceb1028df6ae26adc2894cfa"
        }
      },
      "name": "python3"
    },
    "language_info": {
      "codemirror_mode": {
        "name": "ipython",
        "version": 3
      },
      "file_extension": ".py",
      "mimetype": "text/x-python",
      "name": "python",
      "nbconvert_exporter": "python",
      "pygments_lexer": "ipython3",
      "version": "3.8.6-final"
    },
    "orig_nbformat": 2,
    "colab": {
      "name": "tugas_4_bambytop.ipynb",
      "provenance": [],
      "collapsed_sections": []
    }
  },
  "cells": [
    {
      "cell_type": "markdown",
      "metadata": {
        "id": "fDxn0_XPcMjl"
      },
      "source": [
        "1. Buatlah sebuah fungsi di python yang memerlukan dua argument, nama dan usia. Lalu menampilkan dua argument tersebut saat fungsi dipanggil"
      ]
    },
    {
      "cell_type": "code",
      "metadata": {
        "id": "qI1yJUrVcMjq",
        "colab": {
          "base_uri": "https://localhost:8080/"
        },
        "outputId": "ae02c246-9122-42af-dcb6-7b513f8552ee"
      },
      "source": [
        "#kerjakan soal no. 1 pada sel ini\n",
        "\n",
        "#contoh pemanggilan fungsi\n",
        "#func1(\"Rina\", 20)\n",
        "\n",
        "#output\n",
        "#Rina 20\n",
        "def func1(nama, umur):\n",
        "  print(nama, umur)\n",
        "\n",
        "func1(\"Rina\", 20)"
      ],
      "execution_count": null,
      "outputs": [
        {
          "output_type": "stream",
          "name": "stdout",
          "text": [
            "Rina 20\n"
          ]
        }
      ]
    },
    {
      "cell_type": "markdown",
      "metadata": {
        "id": "dbTikp1XcMjr"
      },
      "source": [
        "2. Buatlah fungsi yang bisa melakukan print semua parameter/argument yang menjadi inputan. Fungsi tersebut harus bisa menerima berapapun argument yang dimasukkan tanpa error. "
      ]
    },
    {
      "cell_type": "code",
      "metadata": {
        "id": "lYdwbbwYcMjs",
        "colab": {
          "base_uri": "https://localhost:8080/"
        },
        "outputId": "38df2d60-203b-4aeb-f27f-f323fd67fac9"
      },
      "source": [
        "#kerjakan soal no. 2 pada sel ini\n",
        "\n",
        "#contoh pemanggilan fungsi\n",
        "#func2(1,2,3)\n",
        "\n",
        "'''\n",
        "output\n",
        "1\n",
        "2\n",
        "3\n",
        "'''\n",
        "\n",
        "#contoh pemanggilan fungsi\n",
        "#func1(1,2,3,4,5,6)\n",
        "\n",
        "'''\n",
        "output\n",
        "1\n",
        "2\n",
        "3\n",
        "4\n",
        "5\n",
        "6\n",
        "'''\n",
        "\n",
        "def func2(*angka):\n",
        "  for item in angka:\n",
        "    print(item)\n",
        "\n",
        "func2(1,2,3,4,5,6)"
      ],
      "execution_count": null,
      "outputs": [
        {
          "output_type": "stream",
          "name": "stdout",
          "text": [
            "1\n",
            "2\n",
            "3\n",
            "4\n",
            "5\n",
            "6\n"
          ]
        }
      ]
    },
    {
      "cell_type": "markdown",
      "metadata": {
        "id": "SbyLuBxccMjs"
      },
      "source": [
        "3. Buatlah sebuah fungsi yang dapat mencari jumlah total dari anggota pada list. Syarat pengerjaan:\n",
        "     - tanpa menggunakan loop/iterasi\n",
        "     - manfaatkan fungsi lambda\n",
        "\n",
        "list_nilai = [23,17,5,8,25,15]"
      ]
    },
    {
      "cell_type": "code",
      "metadata": {
        "id": "p0Sl8DpfcMjt",
        "colab": {
          "base_uri": "https://localhost:8080/"
        },
        "outputId": "df5120a3-b3db-41b7-9b51-66098e81d9b0"
      },
      "source": [
        "#kerjakan soal no. 3 pada sel ini\n",
        "\n",
        "#contoh pemanggilan fungsi\n",
        "#func3(list_nilai)\n",
        "\n",
        "#output\n",
        "#93\n",
        "from functools import reduce\n",
        "\n",
        "list_nilai = [23,17,5,8,25,15]\n",
        "\n",
        "def func3(mylist):\n",
        "  print(reduce(lambda a,b:a+b, mylist))\n",
        "\n",
        "func3(list_nilai)"
      ],
      "execution_count": null,
      "outputs": [
        {
          "output_type": "stream",
          "name": "stdout",
          "text": [
            "93\n"
          ]
        }
      ]
    },
    {
      "cell_type": "markdown",
      "metadata": {
        "id": "GRb0Iq0ecMju"
      },
      "source": [
        "4. Buatlah sebuah fungsi yang dapat mencari nilai yang lebih besar/sama dengan 80 dari anggota pada list. Syarat pengerjaan:\n",
        "     - tanpa menggunakan loop/iterasi\n",
        "     - manfaatkan fungsi lambda\n",
        "     - ouput merupakan list\n",
        "\n",
        "nilai_siswa = [67,89,80,67,25,92]"
      ]
    },
    {
      "cell_type": "code",
      "metadata": {
        "id": "yeduPuBVcMjv",
        "colab": {
          "base_uri": "https://localhost:8080/"
        },
        "outputId": "5588436a-15fe-45c9-ad1c-f0d717b6a0d0"
      },
      "source": [
        "#kerjakan soal no. 4 pada sel ini\n",
        "\n",
        "#contoh pemanggilan fungsi\n",
        "#func4(nilai_siswa)\n",
        "\n",
        "#output\n",
        "#[89,80,92]\n",
        "\n",
        "nilai_siswa = [67,89,80,67,25,92]\n",
        "\n",
        "def func4(nilai):\n",
        "  print(list(filter(lambda a: a>=80, nilai)))\n",
        "\n",
        "func4(nilai_siswa)"
      ],
      "execution_count": null,
      "outputs": [
        {
          "output_type": "stream",
          "name": "stdout",
          "text": [
            "[89, 80, 92]\n"
          ]
        }
      ]
    },
    {
      "cell_type": "markdown",
      "metadata": {
        "id": "fTf3aceJcMjv"
      },
      "source": [
        "5. Buatlah sebuah fungsi untuk mengecek apakah suatu string palindrom atau bukan\n",
        "\n",
        "kata_1 = \"makam\"\n",
        "kata_2 = \"makan\""
      ]
    },
    {
      "cell_type": "code",
      "metadata": {
        "id": "68wodFIVcMjw",
        "colab": {
          "base_uri": "https://localhost:8080/"
        },
        "outputId": "351e0c48-070a-4d36-ff65-12867c0060d3"
      },
      "source": [
        "#kerjakan soal no.5 pada sel ini\n",
        "\n",
        "#contoh pemanggilan fungsi\n",
        "#test_palindrom(kata_1)\n",
        "#test_palindrom(kata_2)\n",
        "\n",
        "#output\n",
        "#makam merupakan palindrom\n",
        "#makan bukan merupakan palindrom\n",
        "\n",
        "def test_palindrom(kata):\n",
        "  if kata == kata[::-1]:\n",
        "    print(f\"{kata} merupakan palindrom\")\n",
        "  else:\n",
        "    print(f\"{kata} bukan merupakan palindrom\")\n",
        "\n",
        "kata_1 = \"makam\"\n",
        "kata_2 = \"makan\"\n",
        "\n",
        "#print(kata_1[len(kata_1)::-1]) #reverse string using slicing\n",
        "#print(kata_1[::-1]) #reverse string using slicing\n",
        "#print(''.join(reversed(kata_2)))\n",
        "\n",
        "test_palindrom(kata_1)\n",
        "test_palindrom(kata_2)"
      ],
      "execution_count": null,
      "outputs": [
        {
          "output_type": "stream",
          "name": "stdout",
          "text": [
            "makam\n",
            "makam merupakan palindrom\n",
            "makan bukan merupakan palindrom\n"
          ]
        }
      ]
    }
  ]
}