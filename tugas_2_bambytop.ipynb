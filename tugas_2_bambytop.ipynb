{
  "nbformat": 4,
  "nbformat_minor": 0,
  "metadata": {
    "language_info": {
      "codemirror_mode": {
        "name": "ipython",
        "version": 3
      },
      "file_extension": ".py",
      "mimetype": "text/x-python",
      "name": "python",
      "nbconvert_exporter": "python",
      "pygments_lexer": "ipython3",
      "version": "3.8.6-final"
    },
    "orig_nbformat": 2,
    "kernelspec": {
      "name": "python3",
      "display_name": "Python 3.8.6 64-bit ('public_op')",
      "metadata": {
        "interpreter": {
          "hash": "66914c7a76df292d6a0bba50fafa355dedd93b53ceb1028df6ae26adc2894cfa"
        }
      }
    },
    "colab": {
      "name": "tugas_2_bambytop.ipynb",
      "provenance": [],
      "collapsed_sections": []
    }
  },
  "cells": [
    {
      "cell_type": "markdown",
      "metadata": {
        "id": "KaEDsW5JqSds"
      },
      "source": [
        "1. Lakukan 4 operasi aritmatika pada 2 variabel di bawah (tambah, kurang, kali, bagi), lalu simpan semua hasilnya didalam list dan tampilkan.\n",
        "\n",
        "var_1 = 10\n",
        "\n",
        "var_2 = 2"
      ]
    },
    {
      "cell_type": "code",
      "metadata": {
        "id": "MPENGsLFqSd1",
        "colab": {
          "base_uri": "https://localhost:8080/"
        },
        "outputId": "37867609-c46a-4466-cb8a-f393cf8be051"
      },
      "source": [
        "#kerjakan soal no 1 pada sel ini\n",
        "#keluaran yang diharapkan : [12,8,20,5]\n",
        "var_1 = 10\n",
        "var_2 = 2\n",
        "\n",
        "list_aritmatika = [\n",
        "  var_1+var_2,\n",
        "  var_1-var_2,\n",
        "  var_1*var_2,\n",
        "  var_1/var_2\n",
        "]\n",
        "print(list_aritmatika)"
      ],
      "execution_count": 1,
      "outputs": [
        {
          "output_type": "stream",
          "name": "stdout",
          "text": [
            "[12, 8, 20, 5.0]\n"
          ]
        }
      ]
    },
    {
      "cell_type": "markdown",
      "metadata": {
        "id": "wXKjNfn-qSd3"
      },
      "source": [
        "2. Dengan menggunakan index keluarkan nilai dari dua tuple di bawah\n",
        "\n",
        "a. ('Budi', 'Rani', 'Indah', 'Ilham')\n",
        "\n",
        "b. (20, 18, 22, 27)\n",
        "\n",
        "dari tuple a keluarkan Rani, dan dari tuple B keluarkan 22. lalu tampilkan dengan print() sesuai format yang diharapkan"
      ]
    },
    {
      "cell_type": "code",
      "metadata": {
        "id": "J-OcN_GMqSd5",
        "colab": {
          "base_uri": "https://localhost:8080/"
        },
        "outputId": "9595a417-4729-40e2-9508-692627090fe7"
      },
      "source": [
        "#kerjakan soal no 2 pada sel ini\n",
        "#keluaran yang diharapkan: \"Rani adalah mahasiswi yang berusia 22 tahun\"\n",
        "tuple_nama = ('Budi', 'Rani', 'Indah', 'Ilham')\n",
        "tuple_umur = (20, 18, 22, 27)\n",
        "\n",
        "print(\"{0} adalah mahasiswi yang berusia {1} tahun\".format(tuple_nama[1], tuple_umur[2]))"
      ],
      "execution_count": 9,
      "outputs": [
        {
          "output_type": "stream",
          "name": "stdout",
          "text": [
            "Rani adalah mahasiswi yang berusia 22 tahun\n"
          ]
        }
      ]
    },
    {
      "cell_type": "markdown",
      "metadata": {
        "id": "pfNNOzGqqSd6"
      },
      "source": [
        "3. Cari kota asal dari user dengan data di bawah. Cari nilai uniknya/jangan sampai ada pengulangan.\n",
        "\n",
        "data_dict = {'Rudi':'bandung', 'Nina':'jakarta', 'Mia':'semarang', 'Indah':'bandung', 'Salman':'surabaya', 'Mikail':'jakarta'}\n",
        "\n",
        "\n",
        "Hint - Gunakan Set"
      ]
    },
    {
      "cell_type": "code",
      "metadata": {
        "id": "cVTSnYF8qSd7",
        "colab": {
          "base_uri": "https://localhost:8080/"
        },
        "outputId": "e2937ca4-a5d2-4657-d2bb-8dbe54c35f33"
      },
      "source": [
        "#kerjakan soal no 3 pada sel ini\n",
        "#keluaran yang diharapkan: {'bandung','jakarta','semarang','surabaya'}\n",
        "#urutan keluaran tidak penting\n",
        "data_dict = {'Rudi':'bandung', 'Nina':'jakarta', 'Mia':'semarang', 'Indah':'bandung', 'Salman':'surabaya', 'Mikail':'jakarta'}\n",
        "data_set = set()\n",
        "\n",
        "for idx, val in data_dict.items():\n",
        "  data_set.add(val)\n",
        "\n",
        "print(data_set)"
      ],
      "execution_count": 11,
      "outputs": [
        {
          "output_type": "stream",
          "name": "stdout",
          "text": [
            "{'bandung', 'surabaya', 'jakarta', 'semarang'}\n"
          ]
        }
      ]
    },
    {
      "cell_type": "markdown",
      "metadata": {
        "id": "SymjRGBMtOqm"
      },
      "source": [
        "4. Gunakan metode slicing untuk mendapatkan hasil yang diharapkan\n",
        "\n",
        "a = ['1', '13b', 'aa1', 1.32, 22.1, 2.34]\n",
        "..."
      ]
    },
    {
      "cell_type": "code",
      "metadata": {
        "id": "GJZS3I0etxKX",
        "colab": {
          "base_uri": "https://localhost:8080/"
        },
        "outputId": "a875f9fc-3ec1-4f50-f845-d1ed1af79705"
      },
      "source": [
        "#kerjakan soal no 4 pada sel ini\n",
        "#keluaran yang diharapkan: \n",
        "#[ '13b', 'aa1', 1.32, 22.1 ]\n",
        "a = ['1', '13b', 'aa1', 1.32, 22.1, 2.34]\n",
        "print(a[1:5])"
      ],
      "execution_count": 4,
      "outputs": [
        {
          "output_type": "stream",
          "name": "stdout",
          "text": [
            "['13b', 'aa1', 1.32, 22.1]\n"
          ]
        }
      ]
    },
    {
      "cell_type": "markdown",
      "metadata": {
        "id": "j8mfqe9guBjU"
      },
      "source": [
        "5. Gabungkan kedua list di bawah ini\n",
        "\n",
        "a = [1, 3, 5]\n",
        "\n",
        "b = [5, 1, 3]"
      ]
    },
    {
      "cell_type": "code",
      "metadata": {
        "id": "mJUPQFEruN0t",
        "colab": {
          "base_uri": "https://localhost:8080/"
        },
        "outputId": "f2a11a6a-7047-4402-ad98-a9304af34710"
      },
      "source": [
        "#kerjakan soal no 5 pada sel ini\n",
        "#keluaran yang diharapkan: \n",
        "#[5, 1, 3, 1, 3, 5]\n",
        "a = [1,3,5]\n",
        "b = [5,1,3]\n",
        "print(b+a)"
      ],
      "execution_count": 5,
      "outputs": [
        {
          "output_type": "stream",
          "name": "stdout",
          "text": [
            "[5, 1, 3, 1, 3, 5]\n"
          ]
        }
      ]
    },
    {
      "cell_type": "markdown",
      "metadata": {
        "id": "9fMErps3uiDU"
      },
      "source": [
        "6. Hilangkan elemen yang bernilai \"bathroom\" dan 10.50 lalu print kembali list areas\n",
        "\n",
        "areas = [\"hallway\", 11.25, \"kitchen\", 18.0,\n",
        "        \"chill zone\", 20.0, \"bedroom\", 10.75,\n",
        "         \"bathroom\", 10.50, \"poolhouse\", 24.5,\n",
        "         \"garage\", 15.45]\n",
        "\n",
        "..."
      ]
    },
    {
      "cell_type": "code",
      "metadata": {
        "id": "EjdPvnFnuwKG",
        "colab": {
          "base_uri": "https://localhost:8080/"
        },
        "outputId": "ff3e432d-0d75-486b-9560-beb0c2e865a6"
      },
      "source": [
        "#kerjakan soal no 6 pada sel ini\n",
        "#keluaran yang diharapkan: \n",
        "#['hallway', 11.25, 'kitchen', 18.0, 'chill zone', 20.0, 'bedroom', 10.75, 'poolhouse', 24.5, 'garage', 15.45]\n",
        "areas = [\"hallway\", 11.25, \"kitchen\", 18.0, \"chill zone\", 20.0, \"bedroom\", 10.75, \"bathroom\", 10.50, \"poolhouse\", 24.5, \"garage\", 15.45]\n",
        "areas.remove(\"bathroom\")\n",
        "areas.remove(10.50)\n",
        "print(areas)"
      ],
      "execution_count": 6,
      "outputs": [
        {
          "output_type": "stream",
          "name": "stdout",
          "text": [
            "['hallway', 11.25, 'kitchen', 18.0, 'chill zone', 20.0, 'bedroom', 10.75, 'poolhouse', 24.5, 'garage', 15.45]\n"
          ]
        }
      ]
    },
    {
      "cell_type": "markdown",
      "metadata": {
        "id": "GTChil2XvR2t"
      },
      "source": [
        "7.\n",
        "\n",
        "***europe = {'spain':'madrid', 'france':'paris', 'germany':'bonn', 'norway':'oslo', 'italy':'rome', 'poland':'warsaw', 'australia':'vienna' }***\n",
        "\n",
        "\n",
        "update nilai ibukota german ke berlin\n",
        "\n",
        ".........\n",
        "\n",
        "remove australia dari europa\n",
        "\n",
        "........\n",
        "\n",
        "print(europe)"
      ]
    },
    {
      "cell_type": "code",
      "metadata": {
        "id": "y3BndXSZvl-R",
        "colab": {
          "base_uri": "https://localhost:8080/"
        },
        "outputId": "573d456c-7bb9-4c8f-c3cc-2321b28104c5"
      },
      "source": [
        "#kerjakan soal no 7 pada sel ini\n",
        "#keluaran yang diharapkan: \n",
        "#{'spain': 'madrid', 'france': 'paris', 'germany': 'berlin', 'norway': 'oslo', 'italy': 'rome', 'poland': 'warsaw'}\n",
        "europe = {'spain':'madrid', 'france':'paris', 'germany':'bonn', 'norway':'oslo', 'italy':'rome', 'poland':'warsaw', 'australia':'vienna' }\n",
        "europe['germany'] = 'berlin'\n",
        "europe.pop('australia')\n",
        "print(europe)"
      ],
      "execution_count": 7,
      "outputs": [
        {
          "output_type": "stream",
          "name": "stdout",
          "text": [
            "{'spain': 'madrid', 'france': 'paris', 'germany': 'berlin', 'norway': 'oslo', 'italy': 'rome', 'poland': 'warsaw'}\n"
          ]
        }
      ]
    },
    {
      "cell_type": "markdown",
      "metadata": {
        "id": "Ra6Cxl-vv05z"
      },
      "source": [
        "8.\n",
        "Cari semua nilai yang sama dari kedua list berikut ini. Print dalam bentuk list\n",
        "\n",
        "\n",
        "a = [1,4,24,53,67,45,23,4,7,8,2,9,6,10,19,20,23,13,19]\n",
        "\n",
        "b = [1,3,5,7,9,11,13,15,17,19,21,23]"
      ]
    },
    {
      "cell_type": "code",
      "metadata": {
        "id": "ouDKp690wNut",
        "colab": {
          "base_uri": "https://localhost:8080/"
        },
        "outputId": "5c166390-6139-4586-fa83-9b0ed2ae8078"
      },
      "source": [
        "#kerjakan soal no 8 pada sel ini\n",
        "#keluaran yang diharapkan: \n",
        "#[1, 7, 9, 13, 19, 23]\n",
        "a = [1,4,24,53,67,45,23,4,7,8,2,9,6,10,19,20,23,13,19]\n",
        "b = [1,3,5,7,9,11,13,15,17,19,21,23]\n",
        "c = list(set(a) & set(b))\n",
        "print(c)  "
      ],
      "execution_count": 8,
      "outputs": [
        {
          "output_type": "stream",
          "name": "stdout",
          "text": [
            "[1, 7, 9, 13, 19, 23]\n"
          ]
        }
      ]
    }
  ]
}